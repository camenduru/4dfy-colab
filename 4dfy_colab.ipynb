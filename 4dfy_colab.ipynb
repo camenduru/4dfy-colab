{
  "cells": [
    {
      "cell_type": "markdown",
      "metadata": {
        "id": "view-in-github"
      },
      "source": [
        "[![Open In Colab](https://colab.research.google.com/assets/colab-badge.svg)](https://colab.research.google.com/github/camenduru/4dfy-colab/blob/main/4dfy_colab.ipynb)"
      ]
    },
    {
      "cell_type": "code",
      "execution_count": null,
      "metadata": {
        "id": "VjYy0F2gZIPR"
      },
      "outputs": [],
      "source": [
        "%cd /content\n",
        "!git clone -b dev https://github.com/camenduru/4dfy\n",
        "%cd /content/4dfy\n",
        "\n",
        "!git clone https://github.com/bytedance/MVDream extern/MVDream\n",
        "!pip install -e extern/MVDream \n",
        "\n",
        "!pip install -q pytorch_lightning jaxtyping diffusers==0.20.2\n",
        "!pip install -q https://github.com/camenduru/wheels/releases/download/colab/tinycudann-1.7-cp310-cp310-linux_x86_64.whl\n",
        "!pip install -q libigl trimesh wandb accelerate\n",
        "!pip install -q git+https://github.com/NVlabs/nvdiffrast.git\n",
        "!pip install -q nerfacc -f https://nerfacc-bucket.s3.us-west-2.amazonaws.com/whl/torch-2.0.0_cu118.html"
      ]
    },
    {
      "cell_type": "code",
      "execution_count": null,
      "metadata": {},
      "outputs": [],
      "source": [
        "# Stage 1\n",
        "!python launch.py --config configs/fourdfy_stage_1.yaml --train --gpu 0 \\\n",
        "                  exp_root_dir=/content/4dfy/output seed=0 \\\n",
        "                  system.prompt_processor.prompt=\"a dog riding a skateboard\""
      ]
    },
    {
      "cell_type": "code",
      "execution_count": null,
      "metadata": {},
      "outputs": [],
      "source": [
        "# Stage 2\n",
        "!python launch.py --config configs/fourdfy_stage_2.yaml --train --gpu 0 \\\n",
        "                    exp_root_dir=/content/4dfy/output seed=0 \\\n",
        "                    system.prompt_processor.prompt=\"a dog riding a skateboard\" \\\n",
        "                    system.weights=/content/4dfy/output/a_dog_riding_a_skateboard@timestamp/ckpts/last.ckpt"
      ]
    },
    {
      "cell_type": "code",
      "execution_count": null,
      "metadata": {},
      "outputs": [],
      "source": [
        "# Stage 3\n",
        "!python launch.py --config configs/fourdfy_stage_3.yaml --train --gpu 0 \\\n",
        "                    exp_root_dir=/content/4dfy/output seed=0 \\\n",
        "                    system.prompt_processor.prompt=\"a dog riding a skateboard\" \\\n",
        "                    system.weights=/content/4dfy/output/a_dog_riding_a_skateboard@timestamp/ckpts/last.ckpt"
      ]
    }
  ],
  "metadata": {
    "accelerator": "GPU",
    "colab": {
      "gpuType": "T4",
      "provenance": []
    },
    "kernelspec": {
      "display_name": "Python 3",
      "name": "python3"
    },
    "language_info": {
      "name": "python"
    }
  },
  "nbformat": 4,
  "nbformat_minor": 0
}
